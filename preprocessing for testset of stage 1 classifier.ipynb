{
 "cells": [
  {
   "cell_type": "code",
   "execution_count": 1,
   "metadata": {},
   "outputs": [],
   "source": [
    "import nltk \n",
    "import string \n",
    "from nltk.corpus import stopwords "
   ]
  },
  {
   "cell_type": "code",
   "execution_count": 2,
   "metadata": {},
   "outputs": [],
   "source": [
    "data = open('filtered_2019.txt',encoding=\"utf8\").read()"
   ]
  },
  {
   "cell_type": "code",
   "execution_count": 6,
   "metadata": {},
   "outputs": [],
   "source": [
    "labels, texts = [], []\n",
    "for i, line in enumerate(data.split(\"\\n\")):\n",
    "    content = line.split()\n",
    "    labels.append(\"label_1\")\n",
    "    texts.append(\" \".join(content[1:]))"
   ]
  },
  {
   "cell_type": "code",
   "execution_count": 7,
   "metadata": {},
   "outputs": [],
   "source": [
    "import pandas\n",
    "df= pandas.DataFrame()\n",
    "\n",
    "df['label'] = labels\n",
    "df['text'] = texts"
   ]
  },
  {
   "cell_type": "code",
   "execution_count": 9,
   "metadata": {},
   "outputs": [
    {
     "data": {
      "text/html": [
       "<div>\n",
       "<style scoped>\n",
       "    .dataframe tbody tr th:only-of-type {\n",
       "        vertical-align: middle;\n",
       "    }\n",
       "\n",
       "    .dataframe tbody tr th {\n",
       "        vertical-align: top;\n",
       "    }\n",
       "\n",
       "    .dataframe thead th {\n",
       "        text-align: right;\n",
       "    }\n",
       "</style>\n",
       "<table border=\"1\" class=\"dataframe\">\n",
       "  <thead>\n",
       "    <tr style=\"text-align: right;\">\n",
       "      <th></th>\n",
       "      <th>label</th>\n",
       "      <th>text</th>\n",
       "    </tr>\n",
       "  </thead>\n",
       "  <tbody>\n",
       "    <tr>\n",
       "      <th>0</th>\n",
       "      <td>label_1</td>\n",
       "      <td>ties up with jjp in haryana, to fix seats soon...</td>\n",
       "    </tr>\n",
       "    <tr>\n",
       "      <th>1</th>\n",
       "      <td>label_1</td>\n",
       "      <td>mango to flood markets from next week bad weat...</td>\n",
       "    </tr>\n",
       "    <tr>\n",
       "      <th>2</th>\n",
       "      <td>label_1</td>\n",
       "      <td>rights panel seeks report on minor’s rape and ...</td>\n",
       "    </tr>\n",
       "    <tr>\n",
       "      <th>3</th>\n",
       "      <td>label_1</td>\n",
       "      <td>science congress: two students secure ‘a’ grad...</td>\n",
       "    </tr>\n",
       "    <tr>\n",
       "      <th>4</th>\n",
       "      <td>label_1</td>\n",
       "      <td>hc junks plea to allow people to take own food...</td>\n",
       "    </tr>\n",
       "    <tr>\n",
       "      <th>...</th>\n",
       "      <td>...</td>\n",
       "      <td>...</td>\n",
       "    </tr>\n",
       "    <tr>\n",
       "      <th>72588</th>\n",
       "      <td>label_1</td>\n",
       "      <td>supporter rush spooks cops, leads to traffic s...</td>\n",
       "    </tr>\n",
       "    <tr>\n",
       "      <th>72589</th>\n",
       "      <td>label_1</td>\n",
       "      <td>kilometers of road was damaged due to excessiv...</td>\n",
       "    </tr>\n",
       "    <tr>\n",
       "      <th>72590</th>\n",
       "      <td>label_1</td>\n",
       "      <td>gowariker: we feel good about the emotion of b...</td>\n",
       "    </tr>\n",
       "    <tr>\n",
       "      <th>72591</th>\n",
       "      <td>label_1</td>\n",
       "      <td>can shine light on the path of life’ | nov 24,...</td>\n",
       "    </tr>\n",
       "    <tr>\n",
       "      <th>72592</th>\n",
       "      <td>label_1</td>\n",
       "      <td></td>\n",
       "    </tr>\n",
       "  </tbody>\n",
       "</table>\n",
       "<p>72593 rows × 2 columns</p>\n",
       "</div>"
      ],
      "text/plain": [
       "         label                                               text\n",
       "0      label_1  ties up with jjp in haryana, to fix seats soon...\n",
       "1      label_1  mango to flood markets from next week bad weat...\n",
       "2      label_1  rights panel seeks report on minor’s rape and ...\n",
       "3      label_1  science congress: two students secure ‘a’ grad...\n",
       "4      label_1  hc junks plea to allow people to take own food...\n",
       "...        ...                                                ...\n",
       "72588  label_1  supporter rush spooks cops, leads to traffic s...\n",
       "72589  label_1  kilometers of road was damaged due to excessiv...\n",
       "72590  label_1  gowariker: we feel good about the emotion of b...\n",
       "72591  label_1  can shine light on the path of life’ | nov 24,...\n",
       "72592  label_1                                                   \n",
       "\n",
       "[72593 rows x 2 columns]"
      ]
     },
     "execution_count": 9,
     "metadata": {},
     "output_type": "execute_result"
    }
   ],
   "source": [
    "df"
   ]
  },
  {
   "cell_type": "code",
   "execution_count": 37,
   "metadata": {},
   "outputs": [
    {
     "data": {
      "text/plain": [
       "\"' A whopping 42 film releases, but only half survive the weekend Comments () Sort: SIGN IN WITH ORPOSTWITHOUTREGISTRATION Refrain from posting comments that are obscene, defamatory or inflammatory, and do not indulge in personal attacks, name calling or inciting hatred against any community. Help us delete comments that do not follow these guidelines by marking them offensive. Let's work together to keep the conversation civil. Be the first one to review. We have sent you a verification email. To verify, just follow the link in the message A whopping 42 film releases, but only half survive the weekend On Friday, one of the biggest conversation starters both online and offline was the sheer number of film released in the city. With around 42 new releases in 11 languages, along with a host of existing films, it seemed like an impromptu film festival at city multiplexes. But after the initial fuss, half of these could not sustain themselves in movie halls beyond day one. Only a handful of films across languages have managed shows into the weekend as well. While the issue of too many films hitting screens on one day has cropped up in the past as well, this week’s total, though, caught everyone by surprise. The question here is, what purpose does it serve when they can’t keep up thereafter? A risky development Veteran filmmaker P Sheshadri, whose Kannada film was among those released this week, says, “It is great that films from many languages are releasing, which makes it seem that cinema is truly shining here. After all, even a Bhojpuri film finds space in a Bengaluru multiplex.” Although films in 11 languages released on Friday, by the weekend, bookings were open only for a few movies in five languages. Film publicist Sudhindra Venkatesh observes, “This is a risky development. Ten Kannada films is a record. Add to that the 30-plus releases in other languages and it becomes unimaginable. The number of screens are limited, as are the audience. So, this not only affects the prospects of the particular films that release, but also the local industry.” What gives Venkatesh says that this year in particular has been tough for smaller films in Kannada. “We have had many big star releases, and December does have a few lined up. This is why everyone is trying to release when they have a chance. They don’t get enough cinema halls eventually and do not reach the audience, even if they are good.” A senior film distributor on condition of anonymity says, “It baffled all of us that over 40 films were being released in Bengaluru. We knew that most would not stay beyond a day or two. In fact, by Monday, even fewer will survive. The problem with that, though, is that moviegoers will single out films that star familiar names, while those with newbies that have not been publicised well enough lose out.” New release tactics Film observer and strategist Harish Mallya says some of the newer indie releases are trying new techniques, which could help them sustain. “The case of the release of the Assamese film Aamis is interesting. The start-up that is distributing the film decided to have a limited release in big metros that involved just a screen or two in multiplexes in the first weekend. The word of mouth and publicity on social media helped the show sustain for a week in most metros.” Comments (0) Refrain from posting comments that are obscene, defamatory or inflammatory, and do not indulge in personal attacks, name calling or inciting hatred against any community. Help us delete comments that do not follow these guidelines by marking them offensive. Let's work together to keep the conversation civil.\""
      ]
     },
     "execution_count": 37,
     "metadata": {},
     "output_type": "execute_result"
    }
   ],
   "source": [
    "df['text'].iloc[4]"
   ]
  },
  {
   "cell_type": "code",
   "execution_count": 38,
   "metadata": {},
   "outputs": [],
   "source": [
    "import numpy as np\n",
    "df['text'].replace('', np.nan, inplace=True)\n"
   ]
  },
  {
   "cell_type": "code",
   "execution_count": 39,
   "metadata": {},
   "outputs": [
    {
     "data": {
      "text/html": [
       "<div>\n",
       "<style scoped>\n",
       "    .dataframe tbody tr th:only-of-type {\n",
       "        vertical-align: middle;\n",
       "    }\n",
       "\n",
       "    .dataframe tbody tr th {\n",
       "        vertical-align: top;\n",
       "    }\n",
       "\n",
       "    .dataframe thead th {\n",
       "        text-align: right;\n",
       "    }\n",
       "</style>\n",
       "<table border=\"1\" class=\"dataframe\">\n",
       "  <thead>\n",
       "    <tr style=\"text-align: right;\">\n",
       "      <th></th>\n",
       "      <th>label</th>\n",
       "      <th>text</th>\n",
       "    </tr>\n",
       "  </thead>\n",
       "  <tbody>\n",
       "    <tr>\n",
       "      <th>2</th>\n",
       "      <td>label_1</td>\n",
       "      <td>' Cats are lucky charms! Comments () Sort: SIG...</td>\n",
       "    </tr>\n",
       "    <tr>\n",
       "      <th>4</th>\n",
       "      <td>label_1</td>\n",
       "      <td>' A whopping 42 film releases, but only half s...</td>\n",
       "    </tr>\n",
       "    <tr>\n",
       "      <th>6</th>\n",
       "      <td>label_1</td>\n",
       "      <td>' Top Searches: Plan your celebrations under t...</td>\n",
       "    </tr>\n",
       "    <tr>\n",
       "      <th>8</th>\n",
       "      <td>label_1</td>\n",
       "      <td>' I like to think Indian food is better unders...</td>\n",
       "    </tr>\n",
       "    <tr>\n",
       "      <th>10</th>\n",
       "      <td>label_1</td>\n",
       "      <td>' Women are beginning to demand and get equal ...</td>\n",
       "    </tr>\n",
       "    <tr>\n",
       "      <th>...</th>\n",
       "      <td>...</td>\n",
       "      <td>...</td>\n",
       "    </tr>\n",
       "    <tr>\n",
       "      <th>91176</th>\n",
       "      <td>label_1</td>\n",
       "      <td>' Top Searches: Hyderabad’s schools secure top...</td>\n",
       "    </tr>\n",
       "    <tr>\n",
       "      <th>91178</th>\n",
       "      <td>label_1</td>\n",
       "      <td>' No signs of Buddhist era in Vommali site VIS...</td>\n",
       "    </tr>\n",
       "    <tr>\n",
       "      <th>91180</th>\n",
       "      <td>label_1</td>\n",
       "      <td>' No space to move, TTD plans to take Parakama...</td>\n",
       "    </tr>\n",
       "    <tr>\n",
       "      <th>91182</th>\n",
       "      <td>label_1</td>\n",
       "      <td>' Top Searches: Govt e-system to check cheap s...</td>\n",
       "    </tr>\n",
       "    <tr>\n",
       "      <th>91184</th>\n",
       "      <td>label_1</td>\n",
       "      <td>' Gitam aims to hold mammoth innovation fest H...</td>\n",
       "    </tr>\n",
       "  </tbody>\n",
       "</table>\n",
       "<p>45384 rows × 2 columns</p>\n",
       "</div>"
      ],
      "text/plain": [
       "         label                                               text\n",
       "2      label_1  ' Cats are lucky charms! Comments () Sort: SIG...\n",
       "4      label_1  ' A whopping 42 film releases, but only half s...\n",
       "6      label_1  ' Top Searches: Plan your celebrations under t...\n",
       "8      label_1  ' I like to think Indian food is better unders...\n",
       "10     label_1  ' Women are beginning to demand and get equal ...\n",
       "...        ...                                                ...\n",
       "91176  label_1  ' Top Searches: Hyderabad’s schools secure top...\n",
       "91178  label_1  ' No signs of Buddhist era in Vommali site VIS...\n",
       "91180  label_1  ' No space to move, TTD plans to take Parakama...\n",
       "91182  label_1  ' Top Searches: Govt e-system to check cheap s...\n",
       "91184  label_1  ' Gitam aims to hold mammoth innovation fest H...\n",
       "\n",
       "[45384 rows x 2 columns]"
      ]
     },
     "execution_count": 39,
     "metadata": {},
     "output_type": "execute_result"
    }
   ],
   "source": [
    "\n",
    "df['text'].replace('\\'', np.nan, inplace=True)\n",
    "df['text'].replace('\\()', np.nan, inplace=True)\n",
    "df.dropna(subset=['text'], inplace=True)\n",
    "df"
   ]
  },
  {
   "cell_type": "code",
   "execution_count": 40,
   "metadata": {},
   "outputs": [
    {
     "data": {
      "text/plain": [
       "\"' A whopping 42 film releases, but only half survive the weekend Comments () Sort: SIGN IN WITH ORPOSTWITHOUTREGISTRATION Refrain from posting comments that are obscene, defamatory or inflammatory, and do not indulge in personal attacks, name calling or inciting hatred against any community. Help us delete comments that do not follow these guidelines by marking them offensive. Let's work together to keep the conversation civil. Be the first one to review. We have sent you a verification email. To verify, just follow the link in the message A whopping 42 film releases, but only half survive the weekend On Friday, one of the biggest conversation starters both online and offline was the sheer number of film released in the city. With around 42 new releases in 11 languages, along with a host of existing films, it seemed like an impromptu film festival at city multiplexes. But after the initial fuss, half of these could not sustain themselves in movie halls beyond day one. Only a handful of films across languages have managed shows into the weekend as well. While the issue of too many films hitting screens on one day has cropped up in the past as well, this week’s total, though, caught everyone by surprise. The question here is, what purpose does it serve when they can’t keep up thereafter? A risky development Veteran filmmaker P Sheshadri, whose Kannada film was among those released this week, says, “It is great that films from many languages are releasing, which makes it seem that cinema is truly shining here. After all, even a Bhojpuri film finds space in a Bengaluru multiplex.” Although films in 11 languages released on Friday, by the weekend, bookings were open only for a few movies in five languages. Film publicist Sudhindra Venkatesh observes, “This is a risky development. Ten Kannada films is a record. Add to that the 30-plus releases in other languages and it becomes unimaginable. The number of screens are limited, as are the audience. So, this not only affects the prospects of the particular films that release, but also the local industry.” What gives Venkatesh says that this year in particular has been tough for smaller films in Kannada. “We have had many big star releases, and December does have a few lined up. This is why everyone is trying to release when they have a chance. They don’t get enough cinema halls eventually and do not reach the audience, even if they are good.” A senior film distributor on condition of anonymity says, “It baffled all of us that over 40 films were being released in Bengaluru. We knew that most would not stay beyond a day or two. In fact, by Monday, even fewer will survive. The problem with that, though, is that moviegoers will single out films that star familiar names, while those with newbies that have not been publicised well enough lose out.” New release tactics Film observer and strategist Harish Mallya says some of the newer indie releases are trying new techniques, which could help them sustain. “The case of the release of the Assamese film Aamis is interesting. The start-up that is distributing the film decided to have a limited release in big metros that involved just a screen or two in multiplexes in the first weekend. The word of mouth and publicity on social media helped the show sustain for a week in most metros.” Comments (0) Refrain from posting comments that are obscene, defamatory or inflammatory, and do not indulge in personal attacks, name calling or inciting hatred against any community. Help us delete comments that do not follow these guidelines by marking them offensive. Let's work together to keep the conversation civil.\""
      ]
     },
     "execution_count": 40,
     "metadata": {},
     "output_type": "execute_result"
    }
   ],
   "source": [
    "df['text'].iloc[1]"
   ]
  },
  {
   "cell_type": "code",
   "execution_count": 41,
   "metadata": {},
   "outputs": [
    {
     "data": {
      "text/html": [
       "<div>\n",
       "<style scoped>\n",
       "    .dataframe tbody tr th:only-of-type {\n",
       "        vertical-align: middle;\n",
       "    }\n",
       "\n",
       "    .dataframe tbody tr th {\n",
       "        vertical-align: top;\n",
       "    }\n",
       "\n",
       "    .dataframe thead th {\n",
       "        text-align: right;\n",
       "    }\n",
       "</style>\n",
       "<table border=\"1\" class=\"dataframe\">\n",
       "  <thead>\n",
       "    <tr style=\"text-align: right;\">\n",
       "      <th></th>\n",
       "      <th>text</th>\n",
       "    </tr>\n",
       "  </thead>\n",
       "  <tbody>\n",
       "    <tr>\n",
       "      <th>2</th>\n",
       "      <td>' Cats are lucky charms! Comments () Sort: SIG...</td>\n",
       "    </tr>\n",
       "    <tr>\n",
       "      <th>4</th>\n",
       "      <td>' A whopping 42 film releases, but only half s...</td>\n",
       "    </tr>\n",
       "    <tr>\n",
       "      <th>6</th>\n",
       "      <td>' Top Searches: Plan your celebrations under t...</td>\n",
       "    </tr>\n",
       "    <tr>\n",
       "      <th>8</th>\n",
       "      <td>' I like to think Indian food is better unders...</td>\n",
       "    </tr>\n",
       "    <tr>\n",
       "      <th>10</th>\n",
       "      <td>' Women are beginning to demand and get equal ...</td>\n",
       "    </tr>\n",
       "    <tr>\n",
       "      <th>...</th>\n",
       "      <td>...</td>\n",
       "    </tr>\n",
       "    <tr>\n",
       "      <th>91176</th>\n",
       "      <td>' Top Searches: Hyderabad’s schools secure top...</td>\n",
       "    </tr>\n",
       "    <tr>\n",
       "      <th>91178</th>\n",
       "      <td>' No signs of Buddhist era in Vommali site VIS...</td>\n",
       "    </tr>\n",
       "    <tr>\n",
       "      <th>91180</th>\n",
       "      <td>' No space to move, TTD plans to take Parakama...</td>\n",
       "    </tr>\n",
       "    <tr>\n",
       "      <th>91182</th>\n",
       "      <td>' Top Searches: Govt e-system to check cheap s...</td>\n",
       "    </tr>\n",
       "    <tr>\n",
       "      <th>91184</th>\n",
       "      <td>' Gitam aims to hold mammoth innovation fest H...</td>\n",
       "    </tr>\n",
       "  </tbody>\n",
       "</table>\n",
       "<p>41303 rows × 1 columns</p>\n",
       "</div>"
      ],
      "text/plain": [
       "                                                    text\n",
       "2      ' Cats are lucky charms! Comments () Sort: SIG...\n",
       "4      ' A whopping 42 film releases, but only half s...\n",
       "6      ' Top Searches: Plan your celebrations under t...\n",
       "8      ' I like to think Indian food is better unders...\n",
       "10     ' Women are beginning to demand and get equal ...\n",
       "...                                                  ...\n",
       "91176  ' Top Searches: Hyderabad’s schools secure top...\n",
       "91178  ' No signs of Buddhist era in Vommali site VIS...\n",
       "91180  ' No space to move, TTD plans to take Parakama...\n",
       "91182  ' Top Searches: Govt e-system to check cheap s...\n",
       "91184  ' Gitam aims to hold mammoth innovation fest H...\n",
       "\n",
       "[41303 rows x 1 columns]"
      ]
     },
     "execution_count": 41,
     "metadata": {},
     "output_type": "execute_result"
    }
   ],
   "source": [
    "df.drop_duplicates(subset =\"text\", \n",
    "                     keep = False, inplace = True) \n",
    "df=df.drop(columns=['label'])\n",
    "df"
   ]
  },
  {
   "cell_type": "code",
   "execution_count": 42,
   "metadata": {},
   "outputs": [
    {
     "data": {
      "text/plain": [
       "\"' Leaves of all cops in Maharashtra cancelled AURANGABAD: The state police headquarters has issued orders to all unit commanders in the state to cancel leaves of officers across ranks until December 6. The move is being seen as an attempt to prevent senior officers from making a beeline for political leaders who are part of the new government in the state . “Sensing a change in the direction the wind is blowing, several police officers have been meeting with senior politicians in Mumbai. News of these meetings has not gone down well with the DGP’s office,” a source said. Many senior officials refused to comment on the cancellation of leaves, which was part of an oral communication. But some said the move is important, especially considering the government transition and Babri Masjid demolition anniversary on December 6 — the first since the Ayodhya verdict. “Heads will roll isfthere is a law and order problem. Nobody wants that,” an official holding the rank of superintendent of police, who was recently transferred to the Marathwada region, said.\""
      ]
     },
     "execution_count": 42,
     "metadata": {},
     "output_type": "execute_result"
    }
   ],
   "source": [
    "df1=df\n",
    "df1['text'] = df['text'].str.replace('Comments','')\n",
    "df1['text'] = df['text'].str.replace('Top Searches:','')\n",
    "df1['text'] = df['text'].str.replace('TNN | Updated:','')\n",
    "df1['text'] = df['text'].str.replace('Sort:','')\n",
    "df1['text'] = df['text'].str.replace('SIGN IN WITH ORPOSTWITHOUTREGISTRATION ','')\n",
    "df1['text'] = df['text'].str.replace('picture for representational purpose only','')\n",
    "df1['text'] = df['text'].str.replace('Refrain from posting comments that are obscene, defamatory or inflammatory, and do not indulge in personal attacks, name calling or inciting hatred against any community. ','')\n",
    "df1['text'] = df['text'].str.replace('Help us delete comments that do not follow these guidelines by marking them offensive. Let\\'s work together to keep the conversation civil.','')\n",
    "df1['text'] = df['text'].str.replace('Be the first one to review. We have sent you a verification email. To verify, just follow the link in the message ','')\n",
    "df1.text.iloc[6]"
   ]
  },
  {
   "cell_type": "code",
   "execution_count": 43,
   "metadata": {},
   "outputs": [],
   "source": [
    "DF= df1\n",
    "# Load the regular expression library\n",
    "import re\n",
    "# Remove punctuation\n",
    "#DF['text_processed'] = DF['text'].map(lambda x: re.sub('[,\\.!?]', '', x))\n",
    "# Convert the titles to lowercase\n",
    "DF['text_processed'] = DF['text'].map(lambda x: x.lower())\n",
    "# Print out the first rows of DF\n"
   ]
  },
  {
   "cell_type": "code",
   "execution_count": 44,
   "metadata": {},
   "outputs": [],
   "source": [
    "df1 = DF.drop(columns = ['text'])"
   ]
  },
  {
   "cell_type": "code",
   "execution_count": 45,
   "metadata": {},
   "outputs": [],
   "source": [
    "df1.to_csv('TOI_last.txt', header=None, index=None, sep=' ', mode='a')\n",
    "df1.to_csv('TOI_last.csv')"
   ]
  },
  {
   "cell_type": "code",
   "execution_count": 46,
   "metadata": {},
   "outputs": [
    {
     "data": {
      "text/html": [
       "<div>\n",
       "<style scoped>\n",
       "    .dataframe tbody tr th:only-of-type {\n",
       "        vertical-align: middle;\n",
       "    }\n",
       "\n",
       "    .dataframe tbody tr th {\n",
       "        vertical-align: top;\n",
       "    }\n",
       "\n",
       "    .dataframe thead th {\n",
       "        text-align: right;\n",
       "    }\n",
       "</style>\n",
       "<table border=\"1\" class=\"dataframe\">\n",
       "  <thead>\n",
       "    <tr style=\"text-align: right;\">\n",
       "      <th></th>\n",
       "      <th>text_processed</th>\n",
       "    </tr>\n",
       "  </thead>\n",
       "  <tbody>\n",
       "    <tr>\n",
       "      <th>66738</th>\n",
       "      <td>' mohit hajela of jaquar group explains design...</td>\n",
       "    </tr>\n",
       "    <tr>\n",
       "      <th>60114</th>\n",
       "      <td>' aditi rao hydari: trolling is a reality you ...</td>\n",
       "    </tr>\n",
       "    <tr>\n",
       "      <th>62486</th>\n",
       "      <td>' a cop stands at the entrance of shyakra para...</td>\n",
       "    </tr>\n",
       "    <tr>\n",
       "      <th>41282</th>\n",
       "      <td>' igcs shaurya on visit to indonesia | nov 19,...</td>\n",
       "    </tr>\n",
       "    <tr>\n",
       "      <th>13188</th>\n",
       "      <td>' crime branch raids hookah parlour, detains 1...</td>\n",
       "    </tr>\n",
       "    <tr>\n",
       "      <th>...</th>\n",
       "      <td>...</td>\n",
       "    </tr>\n",
       "    <tr>\n",
       "      <th>770</th>\n",
       "      <td>' chandigarh: man gets 10-year rigorous impris...</td>\n",
       "    </tr>\n",
       "    <tr>\n",
       "      <th>43542</th>\n",
       "      <td>'  ()   the tuesday (november 19) episode of b...</td>\n",
       "    </tr>\n",
       "    <tr>\n",
       "      <th>32314</th>\n",
       "      <td>'  delhi: uber told to pay activist for financ...</td>\n",
       "    </tr>\n",
       "    <tr>\n",
       "      <th>45168</th>\n",
       "      <td>' kanyakumari utilising half of fisheries budg...</td>\n",
       "    </tr>\n",
       "    <tr>\n",
       "      <th>58108</th>\n",
       "      <td>'  delhi: schools reopen, parents improvise to...</td>\n",
       "    </tr>\n",
       "  </tbody>\n",
       "</table>\n",
       "<p>41303 rows × 1 columns</p>\n",
       "</div>"
      ],
      "text/plain": [
       "                                          text_processed\n",
       "66738  ' mohit hajela of jaquar group explains design...\n",
       "60114  ' aditi rao hydari: trolling is a reality you ...\n",
       "62486  ' a cop stands at the entrance of shyakra para...\n",
       "41282  ' igcs shaurya on visit to indonesia | nov 19,...\n",
       "13188  ' crime branch raids hookah parlour, detains 1...\n",
       "...                                                  ...\n",
       "770    ' chandigarh: man gets 10-year rigorous impris...\n",
       "43542  '  ()   the tuesday (november 19) episode of b...\n",
       "32314  '  delhi: uber told to pay activist for financ...\n",
       "45168  ' kanyakumari utilising half of fisheries budg...\n",
       "58108  '  delhi: schools reopen, parents improvise to...\n",
       "\n",
       "[41303 rows x 1 columns]"
      ]
     },
     "execution_count": 46,
     "metadata": {},
     "output_type": "execute_result"
    }
   ],
   "source": [
    "from sklearn.utils import shuffle\n",
    "data = shuffle(df1)\n",
    "data"
   ]
  },
  {
   "cell_type": "code",
   "execution_count": null,
   "metadata": {},
   "outputs": [],
   "source": []
  }
 ],
 "metadata": {
  "kernelspec": {
   "display_name": "Python 3",
   "language": "python",
   "name": "python3"
  },
  "language_info": {
   "codemirror_mode": {
    "name": "ipython",
    "version": 3
   },
   "file_extension": ".py",
   "mimetype": "text/x-python",
   "name": "python",
   "nbconvert_exporter": "python",
   "pygments_lexer": "ipython3",
   "version": "3.8.3"
  }
 },
 "nbformat": 4,
 "nbformat_minor": 4
}
